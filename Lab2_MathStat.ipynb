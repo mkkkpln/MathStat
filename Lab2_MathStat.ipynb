{
  "nbformat": 4,
  "nbformat_minor": 0,
  "metadata": {
    "colab": {
      "provenance": [],
      "include_colab_link": true
    },
    "kernelspec": {
      "name": "python3",
      "display_name": "Python 3"
    },
    "language_info": {
      "name": "python"
    }
  },
  "cells": [
    {
      "cell_type": "markdown",
      "metadata": {
        "id": "view-in-github",
        "colab_type": "text"
      },
      "source": [
        "<a href=\"https://colab.research.google.com/github/mkkkpln/MathStat/blob/main/Lab2_MathStat.ipynb\" target=\"_parent\"><img src=\"https://colab.research.google.com/assets/colab-badge.svg\" alt=\"Open In Colab\"/></a>"
      ]
    },
    {
      "cell_type": "markdown",
      "source": [
        "## **Лабораторная работа №2**\n",
        "\n",
        "Выполнили: Кузенина Валерия и Копалина Майя P3232 (вариант первый)"
      ],
      "metadata": {
        "id": "0Ig3nU4DUQrK"
      }
    },
    {
      "cell_type": "markdown",
      "source": [
        "## Задание 1\n",
        "Предъявите доверительный интервал уровня 1 - α для указанного параметра при данных предположениях (с математическими обоснованиями).\n",
        "\n",
        "Сгенерируйте 2 выборки объёма объёма 25 и посчитайте доверительный интервал. Повторить 1000 раз. Посчитайте, сколько раз 95-процентный доверительный интервал покрывает реальное значение параметра. То же самое сделайте для объема выборки 10000. Как изменился результат? Как объяснить? Что изменяется при росте объемов выборок?\n",
        "\n",
        " Везде даны две независимые выборки $X_{1}$, $X_{2}$ из нормальных распределений $\\ N(\\mu_{1}, \\sigma^2_{1})$, $\\ N(\\mu_{2}, \\sigma^2_{2})$ объемов $n_{1}$, $n_{2}$ соответственно. Сначала указывается оцениваемая функция, потом данные об остальных параметрах, затем параметры эксперимента и подсказки."
      ],
      "metadata": {
        "id": "WZvgLwvvUkfF"
      }
    },
    {
      "cell_type": "markdown",
      "source": [
        "### Вариант 1.\n",
        "Оцениваемый параметр: $\\tau = \\mu_{1} - \\mu_{2}$\n",
        "\n",
        "Известно: $\\mu_{1} = 2, \\ \\mu_{2} = 1,\\ \\sigma^2_{1} = 1, \\ \\sigma^2_{2} = 0.5$\n",
        "\n",
        "Функция: $\\frac{(𝑋_1 − 𝑋_2 − 𝜏)}{𝜎}, \\  𝜎^2= \\frac{𝜎_1^2}{n_1}+\\frac{𝜎_2^2}{n_2}.$\n"
      ],
      "metadata": {
        "id": "Bx15FWN3XAVD"
      }
    },
    {
      "cell_type": "markdown",
      "source": [
        "### Решение:\n",
        "Для начала определим наши значения на языке математической статистики:\n",
        "\n",
        "<!-- $$( x_1 - x_2 - z_{α/2} * (\\frac{𝜎_1^2}{n_1}+\\frac{𝜎_2^2}{n_2})^{1/2}, x_1 - x_2 + z_{α/2} * (\\frac{𝜎_1^2}{n_1}+\\frac{𝜎_2^2}{n_2})^{1/2}$$ -->\n",
        "\n",
        "  - $x_1, x_2 \\ выборочные \\ средние \\ первой \\ и \\ второй \\ выборок \\ соответственно, $\n",
        "\n",
        "  - $𝜎_1^2, 𝜎_2^2 \\ известные \\ дисперсии \\ первой \\ и \\ второй \\ выборок,$\n",
        "\n",
        "  - $n_1, n_2 \\ размеры \\ первой \\ и \\ второй \\ выборок \\ соответственно,$\n",
        "\n",
        "$ Для \\ данной \\ задачи \\ μ_1​=2,μ_2​=1,𝜎_1^2=1,𝜎_2^2=0.5, n_1​=n_2​=25.$\n",
        "\n",
        "Истинное значение оцениваемого параметра $\\tau = \\mu_{1} - \\mu_{2} = 2 - 1 = 1$ \\\\\n",
        "Теперь давайте реализуем этот процесс для генерации выборок, подсчета доверительных интервалов и подсчета количества раз, когда реальное значение параметра $𝜏 = 𝜇_1 − 𝜇_2$\n",
        "содержится в доверительном интервале. Повторим этот процесс 1000 раз для выборок объемом 25 и затем для выборок объемом 10000. Начнем с выборок объемом 25.\n",
        "\n",
        "Для решения этой задачи мы используем Python. Давайте начнем с импорта необходимых библиотек и определения функций для генерации выборок, расчета доверительного интервала и проверки, содержится ли истинное значение параметра в интервале."
      ],
      "metadata": {
        "id": "N49YA7qKZ1xU"
      }
    },
    {
      "cell_type": "code",
      "source": [
        "import numpy as np\n",
        "from scipy.stats import norm\n",
        "\n",
        "# Параметры эксперимента\n",
        "mean_1 = 2\n",
        "mean_2 = 1\n",
        "std_dev_1 = 1\n",
        "std_dev_2 = 0.5\n",
        "n1 = n2 = 25\n",
        "alpha = 0.05  # Уровень значимости\n",
        "\n",
        "true_tau = mean_1 - mean_2"
      ],
      "metadata": {
        "id": "VcJIZ1VvEFZy"
      },
      "execution_count": null,
      "outputs": []
    },
    {
      "cell_type": "markdown",
      "source": [
        "Сгенерируем две независимых выборки $X_{1}, ..., X_{n}$ и $Y_{1}, ..., Y_{n}$из нормального распределения с заданными параметрами размером в 25 элементов"
      ],
      "metadata": {
        "id": "-wPiLJwOEtJM"
      }
    },
    {
      "cell_type": "code",
      "source": [
        "# Функция для генерации выборок\n",
        "X_n = np.random.normal(mean_1, std_dev_1, n1)\n",
        "Y_n = np.random.normal(mean_2, std_dev_2, n2)\n",
        "\n",
        "# Функция для расчета доверительного интервала для двух выборок\n",
        "def confidence_interval(X, std_dev_1, Y, std_dev_2, n, alpha):\n",
        "    Z = norm.ppf(1 - alpha/2) #квантиль нормального распределения уровня 1 - alpha/2\n",
        "    std_dev = np.sqrt((std_dev_1**2) / n + (std_dev_2**2) / n)\n",
        "    f\n",
        "    left_border = (X.mean() - Y.mean()) - (std_dev * Z)\n",
        "    right_border = (X.mean() - Y.mean()) + (std_dev * Z)\n",
        "    return (left_border, right_border)\n",
        "\n",
        "print(\"Доверительный интервал с уровнем доверия 0.95:\", (confidence_interval(X_n, std_dev_1, Y_n, std_dev_2, n1, 0.05)))"
      ],
      "metadata": {
        "colab": {
          "base_uri": "https://localhost:8080/"
        },
        "id": "rzJ5oLLuUBfd",
        "outputId": "5a6c7032-0f46-4ff5-8e87-9824383dccbf"
      },
      "execution_count": null,
      "outputs": [
        {
          "output_type": "stream",
          "name": "stdout",
          "text": [
            "Доверительный интервал с уровнем доверия 0.95: (0.9432511016053836, 1.819773642181965)\n"
          ]
        }
      ]
    },
    {
      "cell_type": "markdown",
      "source": [
        "Истинное значение $\\tau$, которое равно 1, попадает в этот интервал."
      ],
      "metadata": {
        "id": "0T5BVJ4pG2B6"
      }
    },
    {
      "cell_type": "code",
      "source": [
        "# Проведем эксперимент для 25 элементов\n",
        "n1 = n2 = 25\n",
        "cnt = 0\n",
        "for _ in range(1000):\n",
        "    X_n = np.random.normal(mean_1, std_dev_1, n1)\n",
        "    Y_n = np.random.normal(mean_2, std_dev_2, n2)\n",
        "    left, right = confidence_interval(X_n, std_dev_1, Y_n, std_dev_2, n1, 0.05)\n",
        "    if left < true_tau < right:\n",
        "        cnt += 1\n",
        "print(f\"Для 25 элементов: {cnt/1000}\")\n",
        "\n",
        "# Обновляем параметры эксперимента для выборок объемом 10000\n",
        "n1 = n2 = 10000\n",
        "\n",
        "# Повторяем эксперимент 1000 раз для выборок объемом 10000\n",
        "cnt = 0\n",
        "for _ in range(1000):\n",
        "    X_n = np.random.normal(mean_1, std_dev_1, n1)\n",
        "    Y_n = np.random.normal(mean_2, std_dev_2, n2)\n",
        "    left, right = confidence_interval(X_n, std_dev_1, Y_n, std_dev_2, n2, 0.05)\n",
        "    if left < true_tau < right:\n",
        "        cnt += 1\n",
        "print(f\"Для 10000 элементов: {cnt/1000}\")"
      ],
      "metadata": {
        "colab": {
          "base_uri": "https://localhost:8080/"
        },
        "id": "fRBrU-CQUKET",
        "outputId": "ca6e4fa1-e856-4cad-8c93-36d48ccba74a"
      },
      "execution_count": null,
      "outputs": [
        {
          "output_type": "stream",
          "name": "stdout",
          "text": [
            "Для 25 элементов: 0.948\n",
            "Для 10000 элементов: 0.954\n"
          ]
        }
      ]
    },
    {
      "cell_type": "markdown",
      "source": [
        "## Задание 2\n",
        "\n",
        "Постройте асимптотический доверительный интервал уровня 1 - $\\alpha$ для указанного параметра. Проведите эксперимент по схеме, аналогичной первой задаче.\n"
      ],
      "metadata": {
        "id": "2nG6rGy3dxkl"
      }
    },
    {
      "cell_type": "markdown",
      "source": [
        "Сначала указывается класс распределений (однопараметрический) и оценивается параметр, затем параметры эксперимента и подсказки.\n",
        "\n",
        "Функция экспоненциального распределения:\n",
        "\n",
        "\\begin{equation*}\n",
        "F_X(x) =\n",
        " \\begin{cases}\n",
        "   0 , & x < 0\\\\\n",
        "   1 - e^{-\\lambda x} ,  & x \\geq 0\n",
        " \\end{cases}\n",
        "\\end{equation*}\n",
        "\n",
        "Плотность экспоненциального распределения:\n",
        "\n",
        "\\begin{equation*}\n",
        "f_X(x) =\n",
        " \\begin{cases}\n",
        "   0, & x < 0\\\\\n",
        "   \\lambda e^{-\\lambda x},  & x \\geq 0\n",
        " \\end{cases}\n",
        "\\end{equation*}"
      ],
      "metadata": {
        "id": "IO-7Mt8lIWN8"
      }
    },
    {
      "cell_type": "markdown",
      "source": [
        "Медиана для экспоненциального распределения выводится следующим образом: Для случайной величины X, имеющей экспоненциальное распределение с параметром λ, медиана вычисляется как значение x, для которого вероятность X быть меньше или равной x, равна 0.5:\n",
        "\n",
        "\n",
        "$$\\begin{align*}\n",
        " P(X \\leq x) = 0.5 \\\\\n",
        " \\int_{0}^{m} \\lambda e^{-\\lambda t} dt = 0.5 \\\\\n",
        "\\end{align*}$$\n",
        "\n",
        "$$\\begin{align*}\n",
        " \\int_{0}^{m} \\lambda e^{-\\lambda t} dt = -e^{-\\lambda t} \\Bigg|_{0}^{m} = -(e^{-\\lambda m} - e^{-\\lambda \\cdot 0}) = 1 - e^{-\\lambda m} = 0.5 \\\n",
        "\\end{align*}$$\n",
        "$$\\begin{align*}\n",
        " \\\\  1 - e^{-\\lambda m} = 0.5\n",
        " \\\\  e^{-\\lambda m} = 0.5\n",
        " \\\\  -\\lambda m = \\ln(0.5)\n",
        " \\\\  \\lambda m = -\\ln(0.5)\n",
        " \\\\  m = \\frac{\\ln(2)}{\\lambda} \\\n",
        "\\end{align*}$$\n",
        "\n",
        "Медиану для экспоненциально распределенной случайной величины X с параметром λ можно найти, взяв интеграл ($0$, $m$) и приравняв его к 0.5. Тогда медиана m = $\\frac{\\ln(2)}{\\lambda}$."
      ],
      "metadata": {
        "id": "Y0yY8Xt-JWhf"
      }
    },
    {
      "cell_type": "markdown",
      "source": [
        "Теорема об асимптотическом поведении среднего члена вариационного ряда в общем виде:\n",
        "\n",
        "Пусть $X = (X_1, ... X_n)$ - выборка растущего размера из распределения с функцией распределения $F(x)$. Пусть $q_\\alpha$, $\\alpha \\in (0, 1)$ - его $\\alpha$-квантиль, причем $F$ дифференцируема в точке $q_\\alpha$ и $F'(q_\\alpha) > 0$. Тогда:\n",
        "\\begin{align*}\n",
        "\\sqrt{n}\\frac{X_{(np)} - q_\\alpha}{\\sqrt{\\alpha(1-\\alpha)}} f(q_\\alpha) &\\sim \\ N(0 , 1) - стандартный \\  нормальный \\ закон,\n",
        "\\end{align*}\n",
        "где :\n",
        "- $q_\\alpha$: квантиль распределения, который соответствует уровню значимости $\\alpha$. Обычно это квантиль стандартного нормального распределения.\n",
        "\n",
        "- $\\sqrt{\\alpha(1-\\alpha)}$: корень из произведения уровня значимости и его дополнения. В случае стандартного нормального распределения это нужно для стандартизации.\n",
        "- $\\ N(0,1)$: стандартизированная версия $X_{(np)}$ распределена асимптотически нормально с математическим ожиданием 0 и дисперсией 1 при больших размерах выборки.\n",
        "\n",
        "\n",
        "В качестве случайной величины $X_{(np)}$ выступает выборочная медиана $\\hat{m}, \\ \\alpha = 0.5, \\ q_\\alpha = m, \\ f(q_\\alpha)$ - плотность вероятности экспоненциального распределения от медианы, т. е. это $\\lambda e^{-\\lambda m}$.\n",
        "\n",
        "\n",
        "Результат применения центральной предельной теоремы к выборочной медиане из экспоненциального распределения:\n",
        "\\begin{align*}\n",
        "2\\sqrt{n}(\\hat{m} - m) \\cdot \\lambda e^{-\\lambda m} \\sim \\ N(0 , 1)\n",
        "\\end{align*}\n",
        "Тогда утверждение о вероятности того, что стандартизированное отклонение выборочной медианы от истинной медианы умноженное на плотность вероятности экспоненциального распределения от медианы попадет в интервал между квантилями стандартного нормального распределения. :\n",
        "\n",
        "\\begin{align*}\n",
        "P\\left(- Z_{1-\\frac{\\alpha}{2}} < 2\\sqrt{n}(\\hat{m} - m) \\cdot \\lambda e^{-\\lambda m} < Z_{1-\\frac{\\alpha}{2}} \\right) = 1 - α\n",
        "\\end{align*}\n",
        "\n",
        "$Z_{\\frac{\\alpha}{2}}$ - квантиль стандартного нормального распределения для уровня доверия $1 - \\frac{\\alpha}{2}$,\n",
        "\n",
        "Заменив m в степени $e$ на $\\hat{m}$ в силу состоятельности выборочной медианы, получим асимптотический доверительный интервал:\n",
        "\\begin{align*}\n",
        "  P\\left(\\hat m - \\frac{Z_{1-\\frac{α}{2}}}{2\\cdot \\lambda e^{-\\lambda \\hat m} \\sqrt{n}}<  m < \\hat m + \\frac{Z_{1-\\frac{α}{2}}}{2\\cdot \\lambda e^{-\\lambda \\hat m} \\sqrt{n}} \\right) = 1 - α\n",
        "\\end{align*}\n",
        "\n"
      ],
      "metadata": {
        "id": "oXA31MmXLel4"
      }
    },
    {
      "cell_type": "code",
      "source": [
        "import numpy as np\n",
        "from scipy import stats\n",
        "# Уровень доверия\n",
        "alpha = 0.05\n",
        "\n",
        "# Параметр\n",
        "elambda = 1\n",
        "\n",
        "# Количество генераций\n",
        "num_simulations = 1000\n",
        "\n",
        "# Для выборки объемом 25\n",
        "coverage_count_25 = 0\n",
        "n = 25\n",
        "for _ in range(num_simulations):\n",
        "    # Генерация выборок\n",
        "    sample1 = np.random.exponential(elambda, n)\n",
        "\n",
        "    # Реальная медиана\n",
        "    med = np.log(2)/ elambda\n",
        "\n",
        "    # Значение квантиля\n",
        "    z_critical = stats.norm.ppf(1 - alpha/2)\n",
        "\n",
        "\n",
        "    # Доверительный интервал\n",
        "    confidence_interval = (med - ((z_critical)/(2 * elambda * (np.e ** (-elambda * med)) * np.sqrt(n))), med + ((z_critical)/(2 * elambda * (np.e ** (-elambda * med)) * np.sqrt(n))))\n",
        "\n",
        "    # Медиана выборки\n",
        "    median = np.median(sample1)\n",
        "\n",
        "    # Проверка, попадает ли значение параметра в интервал\n",
        "    if confidence_interval[0] <= median <= confidence_interval[1]:\n",
        "        coverage_count_25 += 1\n",
        "\n",
        "coverage_rate_25 = coverage_count_25 / num_simulations\n",
        "\n",
        "\n",
        "# Для выборки объемом 10000\n",
        "coverage_count_10000 = 0\n",
        "n = 20000\n",
        "for _ in range(num_simulations):\n",
        "    # Генерация выборок\n",
        "    sample1 = np.random.exponential(elambda, n)\n",
        "\n",
        "    # Реальная медиана\n",
        "    med = np.log(2)/ elambda\n",
        "\n",
        "    # Значение квантиля\n",
        "    z_critical = stats.norm.ppf(1 - alpha/2)\n",
        "\n",
        "\n",
        "    # Доверительный интервал\n",
        "    confidence_interval = (median - ((z_critical)/(2 * elambda * (np.e ** (-elambda * median)) * np.sqrt(n))), median + ((z_critical)/(2 * elambda * (np.e ** (-elambda * median)) * np.sqrt(n))))\n",
        "\n",
        "    # Медиана выборки\n",
        "    median = np.median(sample1)\n",
        "\n",
        "\n",
        "    # Проверка, попадает ли значение параметра в интервал\n",
        "    if confidence_interval[0] <= med <= confidence_interval[1]:\n",
        "        coverage_count_10000 += 1\n",
        "\n",
        "coverage_rate_10000 = coverage_count_10000 / num_simulations\n",
        "\n",
        "print(f\"Для 25 элементов: {coverage_rate_25}\")\n",
        "print(f\"Для 10000 элементов: {coverage_rate_10000}\")"
      ],
      "metadata": {
        "colab": {
          "base_uri": "https://localhost:8080/"
        },
        "id": "GbC68-KUIhtJ",
        "outputId": "3c09d47a-176a-4b09-a044-4791b0215375"
      },
      "execution_count": null,
      "outputs": [
        {
          "output_type": "stream",
          "name": "stdout",
          "text": [
            "Для 25 элементов: 0.943\n",
            "Для 10000 элементов: 0.95\n"
          ]
        }
      ]
    }
  ]
}